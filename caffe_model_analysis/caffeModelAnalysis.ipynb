{
 "cells": [
  {
   "cell_type": "code",
   "execution_count": 1,
   "metadata": {
    "collapsed": false
   },
   "outputs": [],
   "source": [
    "import caffe_pb2\n",
    "\n",
    "## ptotoc -I=. --python_out=. xxx"
   ]
  },
  {
   "cell_type": "code",
   "execution_count": 2,
   "metadata": {
    "collapsed": true
   },
   "outputs": [],
   "source": [
    "netparameter = caffe_pb2.NetParameter()"
   ]
  },
  {
   "cell_type": "code",
   "execution_count": 3,
   "metadata": {
    "collapsed": false
   },
   "outputs": [],
   "source": [
    "with open('./resnet50_rfcn_ohem_iter_100000.caffemodel', 'rb') as f:\n",
    "    \n",
    "    netparameter.ParseFromString(f.read())"
   ]
  },
  {
   "cell_type": "code",
   "execution_count": 4,
   "metadata": {
    "collapsed": false
   },
   "outputs": [
    {
     "data": {
      "text/plain": [
       "u'ResNet-50'"
      ]
     },
     "execution_count": 4,
     "metadata": {},
     "output_type": "execute_result"
    }
   ],
   "source": [
    "netparameter.name"
   ]
  },
  {
   "cell_type": "code",
   "execution_count": 5,
   "metadata": {
    "collapsed": false
   },
   "outputs": [
    {
     "data": {
      "text/plain": [
       "['ByteSize',\n",
       " 'Clear',\n",
       " 'ClearExtension',\n",
       " 'ClearField',\n",
       " 'CopyFrom',\n",
       " 'DEBUG_INFO_FIELD_NUMBER',\n",
       " 'DESCRIPTOR',\n",
       " 'DiscardUnknownFields',\n",
       " 'FORCE_BACKWARD_FIELD_NUMBER',\n",
       " 'FindInitializationErrors',\n",
       " 'FromString',\n",
       " 'HasExtension',\n",
       " 'HasField',\n",
       " 'INPUT_DIM_FIELD_NUMBER',\n",
       " 'INPUT_FIELD_NUMBER',\n",
       " 'INPUT_SHAPE_FIELD_NUMBER',\n",
       " 'IsInitialized',\n",
       " 'LAYERS_FIELD_NUMBER',\n",
       " 'LAYER_FIELD_NUMBER',\n",
       " 'ListFields',\n",
       " 'MergeFrom',\n",
       " 'MergeFromString',\n",
       " 'NAME_FIELD_NUMBER',\n",
       " 'ParseFromString',\n",
       " 'RegisterExtension',\n",
       " 'STATE_FIELD_NUMBER',\n",
       " 'SerializePartialToString',\n",
       " 'SerializeToString',\n",
       " 'SetInParent',\n",
       " 'WhichOneof',\n",
       " '_InternalParse',\n",
       " '_InternalSerialize',\n",
       " '_Modified',\n",
       " '_SetListener',\n",
       " '_UpdateOneofState',\n",
       " '__class__',\n",
       " '__deepcopy__',\n",
       " '__delattr__',\n",
       " '__doc__',\n",
       " '__eq__',\n",
       " '__format__',\n",
       " '__getattribute__',\n",
       " '__getstate__',\n",
       " '__hash__',\n",
       " '__init__',\n",
       " '__module__',\n",
       " '__ne__',\n",
       " '__new__',\n",
       " '__reduce__',\n",
       " '__reduce_ex__',\n",
       " '__repr__',\n",
       " '__setattr__',\n",
       " '__setstate__',\n",
       " '__sizeof__',\n",
       " '__slots__',\n",
       " '__str__',\n",
       " '__subclasshook__',\n",
       " '__unicode__',\n",
       " '__weakref__',\n",
       " '_cached_byte_size',\n",
       " '_cached_byte_size_dirty',\n",
       " '_decoders_by_tag',\n",
       " '_extensions_by_name',\n",
       " '_extensions_by_number',\n",
       " '_fields',\n",
       " '_is_present_in_parent',\n",
       " '_listener',\n",
       " '_listener_for_children',\n",
       " '_oneofs',\n",
       " '_unknown_fields',\n",
       " 'debug_info',\n",
       " 'force_backward',\n",
       " 'input',\n",
       " 'input_dim',\n",
       " 'input_shape',\n",
       " 'layer',\n",
       " 'layers',\n",
       " 'name',\n",
       " 'state']"
      ]
     },
     "execution_count": 5,
     "metadata": {},
     "output_type": "execute_result"
    }
   ],
   "source": [
    "dir(netparameter)"
   ]
  },
  {
   "cell_type": "code",
   "execution_count": 6,
   "metadata": {
    "collapsed": true
   },
   "outputs": [],
   "source": [
    "layers = netparameter.layer"
   ]
  },
  {
   "cell_type": "code",
   "execution_count": 7,
   "metadata": {
    "collapsed": false
   },
   "outputs": [
    {
     "name": "stdout",
     "output_type": "stream",
     "text": [
      "285\n"
     ]
    }
   ],
   "source": [
    "print len(layers)"
   ]
  },
  {
   "cell_type": "code",
   "execution_count": 13,
   "metadata": {
    "collapsed": false
   },
   "outputs": [
    {
     "name": "stdout",
     "output_type": "stream",
     "text": [
      "input-data\n",
      "data_input-data_0_split\n",
      "im_info_input-data_1_split\n",
      "gt_boxes_input-data_2_split\n",
      "conv1\n",
      "bn_conv1\n",
      "scale_conv1\n",
      "conv1_relu\n",
      "pool1\n",
      "pool1_pool1_0_split\n",
      "res2a_branch1\n",
      "bn2a_branch1\n",
      "scale2a_branch1\n",
      "res2a_branch2a\n",
      "bn2a_branch2a\n",
      "scale2a_branch2a\n",
      "res2a_branch2a_relu\n",
      "res2a_branch2b\n",
      "bn2a_branch2b\n",
      "scale2a_branch2b\n",
      "res2a_branch2b_relu\n",
      "res2a_branch2c\n",
      "bn2a_branch2c\n",
      "scale2a_branch2c\n",
      "res2a\n",
      "res2a_relu\n",
      "res2a_res2a_relu_0_split\n",
      "res2b_branch2a\n",
      "bn2b_branch2a\n",
      "scale2b_branch2a\n",
      "res2b_branch2a_relu\n",
      "res2b_branch2b\n",
      "bn2b_branch2b\n",
      "scale2b_branch2b\n",
      "res2b_branch2b_relu\n",
      "res2b_branch2c\n",
      "bn2b_branch2c\n",
      "scale2b_branch2c\n",
      "res2b\n",
      "res2b_relu\n",
      "res2b_res2b_relu_0_split\n",
      "res2c_branch2a\n",
      "bn2c_branch2a\n",
      "scale2c_branch2a\n",
      "res2c_branch2a_relu\n",
      "res2c_branch2b\n",
      "bn2c_branch2b\n",
      "scale2c_branch2b\n",
      "res2c_branch2b_relu\n",
      "res2c_branch2c\n",
      "bn2c_branch2c\n",
      "scale2c_branch2c\n",
      "res2c\n",
      "res2c_relu\n",
      "res2c_res2c_relu_0_split\n",
      "res3a_branch1\n",
      "bn3a_branch1\n",
      "scale3a_branch1\n",
      "res3a_branch2a\n",
      "bn3a_branch2a\n",
      "scale3a_branch2a\n",
      "res3a_branch2a_relu\n",
      "res3a_branch2b\n",
      "bn3a_branch2b\n",
      "scale3a_branch2b\n",
      "res3a_branch2b_relu\n",
      "res3a_branch2c\n",
      "bn3a_branch2c\n",
      "scale3a_branch2c\n",
      "res3a\n",
      "res3a_relu\n",
      "res3a_res3a_relu_0_split\n",
      "res3b_branch2a\n",
      "bn3b_branch2a\n",
      "scale3b_branch2a\n",
      "res3b_branch2a_relu\n",
      "res3b_branch2b\n",
      "bn3b_branch2b\n",
      "scale3b_branch2b\n",
      "res3b_branch2b_relu\n",
      "res3b_branch2c\n",
      "bn3b_branch2c\n",
      "scale3b_branch2c\n",
      "res3b\n",
      "res3b_relu\n",
      "res3b_res3b_relu_0_split\n",
      "res3c_branch2a\n",
      "bn3c_branch2a\n",
      "scale3c_branch2a\n",
      "res3c_branch2a_relu\n",
      "res3c_branch2b\n",
      "bn3c_branch2b\n",
      "scale3c_branch2b\n",
      "res3c_branch2b_relu\n",
      "res3c_branch2c\n",
      "bn3c_branch2c\n",
      "scale3c_branch2c\n",
      "res3c\n",
      "res3c_relu\n",
      "res3c_res3c_relu_0_split\n",
      "res3d_branch2a\n",
      "bn3d_branch2a\n",
      "scale3d_branch2a\n",
      "res3d_branch2a_relu\n",
      "res3d_branch2b\n",
      "bn3d_branch2b\n",
      "scale3d_branch2b\n",
      "res3d_branch2b_relu\n",
      "res3d_branch2c\n",
      "bn3d_branch2c\n",
      "scale3d_branch2c\n",
      "res3d\n",
      "res3d_relu\n",
      "res3d_res3d_relu_0_split\n",
      "res4a_branch1\n",
      "bn4a_branch1\n",
      "scale4a_branch1\n",
      "res4a_branch2a\n",
      "bn4a_branch2a\n",
      "scale4a_branch2a\n",
      "res4a_branch2a_relu\n",
      "res4a_branch2b\n",
      "bn4a_branch2b\n",
      "scale4a_branch2b\n",
      "res4a_branch2b_relu\n",
      "res4a_branch2c\n",
      "bn4a_branch2c\n",
      "scale4a_branch2c\n",
      "res4a\n",
      "res4a_relu\n",
      "res4a_res4a_relu_0_split\n",
      "res4b_branch2a\n",
      "bn4b_branch2a\n",
      "scale4b_branch2a\n",
      "res4b_branch2a_relu\n",
      "res4b_branch2b\n",
      "bn4b_branch2b\n",
      "scale4b_branch2b\n",
      "res4b_branch2b_relu\n",
      "res4b_branch2c\n",
      "bn4b_branch2c\n",
      "scale4b_branch2c\n",
      "res4b\n",
      "res4b_relu\n",
      "res4b_res4b_relu_0_split\n",
      "res4c_branch2a\n",
      "bn4c_branch2a\n",
      "scale4c_branch2a\n",
      "res4c_branch2a_relu\n",
      "res4c_branch2b\n",
      "bn4c_branch2b\n",
      "scale4c_branch2b\n",
      "res4c_branch2b_relu\n",
      "res4c_branch2c\n",
      "bn4c_branch2c\n",
      "scale4c_branch2c\n",
      "res4c\n",
      "res4c_relu\n",
      "res4c_res4c_relu_0_split\n",
      "res4d_branch2a\n",
      "bn4d_branch2a\n",
      "scale4d_branch2a\n",
      "res4d_branch2a_relu\n",
      "res4d_branch2b\n",
      "bn4d_branch2b\n",
      "scale4d_branch2b\n",
      "res4d_branch2b_relu\n",
      "res4d_branch2c\n",
      "bn4d_branch2c\n",
      "scale4d_branch2c\n",
      "res4d\n",
      "res4d_relu\n",
      "res4d_res4d_relu_0_split\n",
      "res4e_branch2a\n",
      "bn4e_branch2a\n",
      "scale4e_branch2a\n",
      "res4e_branch2a_relu\n",
      "res4e_branch2b\n",
      "bn4e_branch2b\n",
      "scale4e_branch2b\n",
      "res4e_branch2b_relu\n",
      "res4e_branch2c\n",
      "bn4e_branch2c\n",
      "scale4e_branch2c\n",
      "res4e\n",
      "res4e_relu\n",
      "res4e_res4e_relu_0_split\n",
      "res4f_branch2a\n",
      "bn4f_branch2a\n",
      "scale4f_branch2a\n",
      "res4f_branch2a_relu\n",
      "res4f_branch2b\n",
      "bn4f_branch2b\n",
      "scale4f_branch2b\n",
      "res4f_branch2b_relu\n",
      "res4f_branch2c\n",
      "bn4f_branch2c\n",
      "scale4f_branch2c\n",
      "res4f\n",
      "res4f_relu\n",
      "res4f_res4f_relu_0_split\n",
      "res5a_branch1\n",
      "bn5a_branch1\n",
      "scale5a_branch1\n",
      "res5a_branch2a\n",
      "bn5a_branch2a\n",
      "scale5a_branch2a\n",
      "res5a_branch2a_relu\n",
      "res5a_branch2b\n",
      "bn5a_branch2b\n",
      "scale5a_branch2b\n",
      "res5a_branch2b_relu\n",
      "res5a_branch2c\n",
      "bn5a_branch2c\n",
      "scale5a_branch2c\n",
      "res5a\n",
      "res5a_relu\n",
      "res5a_res5a_relu_0_split\n",
      "res5b_branch2a\n",
      "bn5b_branch2a\n",
      "scale5b_branch2a\n",
      "res5b_branch2a_relu\n",
      "res5b_branch2b\n",
      "bn5b_branch2b\n",
      "scale5b_branch2b\n",
      "res5b_branch2b_relu\n",
      "res5b_branch2c\n",
      "bn5b_branch2c\n",
      "scale5b_branch2c\n",
      "res5b\n",
      "res5b_relu\n",
      "res5b_res5b_relu_0_split\n",
      "res5c_branch2a\n",
      "bn5c_branch2a\n",
      "scale5c_branch2a\n",
      "res5c_branch2a_relu\n",
      "res5c_branch2b\n",
      "bn5c_branch2b\n",
      "scale5c_branch2b\n",
      "res5c_branch2b_relu\n",
      "res5c_branch2c\n",
      "bn5c_branch2c\n",
      "scale5c_branch2c\n",
      "res5c\n",
      "res5c_relu\n",
      "rpn_conv/3x3\n",
      "rpn_relu/3x3\n",
      "rpn/output_rpn_relu/3x3_0_split\n",
      "rpn_cls_score\n",
      "rpn_cls_score_rpn_cls_score_0_split\n",
      "rpn_bbox_pred\n",
      "rpn_bbox_pred_rpn_bbox_pred_0_split\n",
      "rpn_cls_score_reshape\n",
      "rpn_cls_score_reshape_rpn_cls_score_reshape_0_split\n",
      "rpn-data\n",
      "rpn_loss_cls\n",
      "rpn_loss_bbox\n",
      "rpn_cls_prob\n",
      "rpn_cls_prob_reshape\n",
      "proposal\n",
      "roi-data\n",
      "rois_roi-data_0_split\n",
      "labels_roi-data_1_split\n",
      "bbox_targets_roi-data_2_split\n",
      "bbox_inside_weights_roi-data_3_split\n",
      "conv_new_1\n",
      "conv_new_1_relu\n",
      "conv_new_1_conv_new_1_relu_0_split\n",
      "rfcn_cls\n",
      "rfcn_bbox\n",
      "psroipooled_cls_rois\n",
      "ave_cls_score_rois\n",
      "cls_score_ave_cls_score_rois_0_split\n",
      "psroipooled_loc_rois\n",
      "ave_bbox_pred_rois\n",
      "bbox_pred_ave_bbox_pred_rois_0_split\n",
      "per_roi_loss_cls\n",
      "per_roi_loss_bbox\n",
      "per_roi_loss\n",
      "annotator_detector\n",
      "labels_ohem_annotator_detector_0_split\n",
      "silence\n",
      "loss\n",
      "accuarcy\n",
      "loss_bbox\n"
     ]
    }
   ],
   "source": [
    "layers_idx = {}\n",
    "for i, l in enumerate(layers):\n",
    "    print l.name\n",
    "    layers_idx[l.name] = i"
   ]
  },
  {
   "cell_type": "code",
   "execution_count": 28,
   "metadata": {
    "collapsed": false
   },
   "outputs": [
    {
     "data": {
      "text/plain": [
       "num_output: 18\n",
       "pad: 0\n",
       "kernel_size: 1\n",
       "stride: 1\n",
       "weight_filler {\n",
       "  type: \"gaussian\"\n",
       "  std: 0.00999999977648\n",
       "}\n",
       "bias_filler {\n",
       "  type: \"constant\"\n",
       "  value: 0.0\n",
       "}"
      ]
     },
     "execution_count": 28,
     "metadata": {},
     "output_type": "execute_result"
    }
   ],
   "source": [
    "layers[layers_idx['rpn_cls_score']].convolution_param"
   ]
  },
  {
   "cell_type": "code",
   "execution_count": 33,
   "metadata": {
    "collapsed": false
   },
   "outputs": [
    {
     "data": {
      "text/plain": [
       "shape {\n",
       "  dim: 0\n",
       "  dim: 2\n",
       "  dim: -1\n",
       "  dim: 0\n",
       "}"
      ]
     },
     "execution_count": 33,
     "metadata": {},
     "output_type": "execute_result"
    }
   ],
   "source": [
    "layers[layers_idx['rpn_cls_score_reshape']].reshape_param"
   ]
  },
  {
   "cell_type": "code",
   "execution_count": 34,
   "metadata": {
    "collapsed": false
   },
   "outputs": [
    {
     "data": {
      "text/plain": [
       "module: \"rpn.anchor_target_layer\"\n",
       "layer: \"AnchorTargetLayer\"\n",
       "param_str: \"\\'feat_stride\\': 16\""
      ]
     },
     "execution_count": 34,
     "metadata": {},
     "output_type": "execute_result"
    }
   ],
   "source": [
    "layers[layers_idx['rpn-data']].python_param"
   ]
  },
  {
   "cell_type": "code",
   "execution_count": 36,
   "metadata": {
    "collapsed": false
   },
   "outputs": [
    {
     "data": {
      "text/plain": [
       "ignore_label: -1\n",
       "normalize: true"
      ]
     },
     "execution_count": 36,
     "metadata": {},
     "output_type": "execute_result"
    }
   ],
   "source": [
    "layers[layers_idx['rpn_loss_cls']].loss_param"
   ]
  },
  {
   "cell_type": "code",
   "execution_count": 38,
   "metadata": {
    "collapsed": false
   },
   "outputs": [
    {
     "data": {
      "text/plain": [
       "shape {\n",
       "  dim: 0\n",
       "  dim: 18\n",
       "  dim: -1\n",
       "  dim: 0\n",
       "}"
      ]
     },
     "execution_count": 38,
     "metadata": {},
     "output_type": "execute_result"
    }
   ],
   "source": [
    "layers[layers_idx['rpn_cls_prob_reshape']].reshape_param "
   ]
  },
  {
   "cell_type": "code",
   "execution_count": 39,
   "metadata": {
    "collapsed": false
   },
   "outputs": [
    {
     "data": {
      "text/plain": [
       "module: \"rpn.proposal_layer\"\n",
       "layer: \"ProposalLayer\"\n",
       "param_str: \"\\'feat_stride\\': 16\""
      ]
     },
     "execution_count": 39,
     "metadata": {},
     "output_type": "execute_result"
    }
   ],
   "source": [
    "layers[layers_idx['proposal']].python_param"
   ]
  },
  {
   "cell_type": "code",
   "execution_count": 40,
   "metadata": {
    "collapsed": false
   },
   "outputs": [
    {
     "data": {
      "text/plain": [
       "module: \"rpn.proposal_target_layer\"\n",
       "layer: \"ProposalTargetLayer\"\n",
       "param_str: \"\\'num_classes\\': 2\""
      ]
     },
     "execution_count": 40,
     "metadata": {},
     "output_type": "execute_result"
    }
   ],
   "source": [
    "layers[layers_idx['roi-data']].python_param"
   ]
  },
  {
   "cell_type": "code",
   "execution_count": 43,
   "metadata": {
    "collapsed": false
   },
   "outputs": [
    {
     "data": {
      "text/plain": [
       "num_output: 1024\n",
       "pad: 0\n",
       "kernel_size: 1\n",
       "weight_filler {\n",
       "  type: \"gaussian\"\n",
       "  std: 0.00999999977648\n",
       "}\n",
       "bias_filler {\n",
       "  type: \"constant\"\n",
       "  value: 0.0\n",
       "}"
      ]
     },
     "execution_count": 43,
     "metadata": {},
     "output_type": "execute_result"
    }
   ],
   "source": [
    "layers[layers_idx['conv_new_1']].convolution_param"
   ]
  },
  {
   "cell_type": "code",
   "execution_count": 45,
   "metadata": {
    "collapsed": false
   },
   "outputs": [
    {
     "data": {
      "text/plain": [
       "u'Convolution'"
      ]
     },
     "execution_count": 45,
     "metadata": {},
     "output_type": "execute_result"
    }
   ],
   "source": [
    "layers[layers_idx['rfcn_cls']].type"
   ]
  },
  {
   "cell_type": "code",
   "execution_count": 48,
   "metadata": {
    "collapsed": false
   },
   "outputs": [
    {
     "data": {
      "text/plain": [
       "num_output: 1421\n",
       "pad: 0\n",
       "kernel_size: 1\n",
       "weight_filler {\n",
       "  type: \"gaussian\"\n",
       "  std: 0.00999999977648\n",
       "}\n",
       "bias_filler {\n",
       "  type: \"constant\"\n",
       "  value: 0.0\n",
       "}"
      ]
     },
     "execution_count": 48,
     "metadata": {},
     "output_type": "execute_result"
    }
   ],
   "source": [
    "layers[layers_idx['rfcn_cls']].convolution_param"
   ]
  },
  {
   "cell_type": "code",
   "execution_count": 47,
   "metadata": {
    "collapsed": false
   },
   "outputs": [
    {
     "data": {
      "text/plain": [
       "u'Convolution'"
      ]
     },
     "execution_count": 47,
     "metadata": {},
     "output_type": "execute_result"
    }
   ],
   "source": [
    "layers[layers_idx['rfcn_bbox']].type"
   ]
  },
  {
   "cell_type": "code",
   "execution_count": 49,
   "metadata": {
    "collapsed": false
   },
   "outputs": [
    {
     "data": {
      "text/plain": [
       "num_output: 392\n",
       "pad: 0\n",
       "kernel_size: 1\n",
       "weight_filler {\n",
       "  type: \"gaussian\"\n",
       "  std: 0.00999999977648\n",
       "}\n",
       "bias_filler {\n",
       "  type: \"constant\"\n",
       "  value: 0.0\n",
       "}"
      ]
     },
     "execution_count": 49,
     "metadata": {},
     "output_type": "execute_result"
    }
   ],
   "source": [
    "layers[layers_idx['rfcn_bbox']].convolution_param"
   ]
  },
  {
   "cell_type": "code",
   "execution_count": 50,
   "metadata": {
    "collapsed": false
   },
   "outputs": [
    {
     "data": {
      "text/plain": [
       "u'PSROIPooling'"
      ]
     },
     "execution_count": 50,
     "metadata": {},
     "output_type": "execute_result"
    }
   ],
   "source": [
    "layers[layers_idx['psroipooled_cls_rois']].type"
   ]
  },
  {
   "cell_type": "code",
   "execution_count": 52,
   "metadata": {
    "collapsed": false
   },
   "outputs": [
    {
     "data": {
      "text/plain": [
       "module: \"roi_data_layer.layer\"\n",
       "layer: \"RoIDataLayer\"\n",
       "param_str: \"\\'num_classes\\': 29\""
      ]
     },
     "execution_count": 52,
     "metadata": {},
     "output_type": "execute_result"
    }
   ],
   "source": [
    "layers[layers_idx['input-data']].python_param"
   ]
  },
  {
   "cell_type": "code",
   "execution_count": 53,
   "metadata": {
    "collapsed": false
   },
   "outputs": [
    {
     "data": {
      "text/plain": [
       "u'SmoothL1LossOHEM'"
      ]
     },
     "execution_count": 53,
     "metadata": {},
     "output_type": "execute_result"
    }
   ],
   "source": [
    "layers[layers_idx['loss_bbox']].type"
   ]
  },
  {
   "cell_type": "code",
   "execution_count": null,
   "metadata": {
    "collapsed": true
   },
   "outputs": [],
   "source": []
  }
 ],
 "metadata": {
  "kernelspec": {
   "display_name": "Python 2",
   "language": "python",
   "name": "python2"
  },
  "language_info": {
   "codemirror_mode": {
    "name": "ipython",
    "version": 2
   },
   "file_extension": ".py",
   "mimetype": "text/x-python",
   "name": "python",
   "nbconvert_exporter": "python",
   "pygments_lexer": "ipython2",
   "version": "2.7.13"
  }
 },
 "nbformat": 4,
 "nbformat_minor": 2
}
