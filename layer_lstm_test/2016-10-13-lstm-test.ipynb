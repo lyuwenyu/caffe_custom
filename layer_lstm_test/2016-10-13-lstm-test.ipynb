{
 "cells": [
  {
   "cell_type": "code",
   "execution_count": 1,
   "metadata": {
    "collapsed": true
   },
   "outputs": [],
   "source": [
    "import h5py\n",
    "import numpy as np\n",
    "\n",
    "import sys\n",
    "sys.path.insert(0, '../../../caffe-windows/Build/x64/Debug/pycaffe/')\n",
    "import caffe"
   ]
  },
  {
   "cell_type": "code",
   "execution_count": 2,
   "metadata": {
    "collapsed": true
   },
   "outputs": [],
   "source": [
    "np.random.seed(0)\n",
    "with h5py.File('lstm-train.h5', 'w') as f:\n",
    "    t = 4\n",
    "    f.create_dataset('data', (4, t, 2, 2), dtype='f8')\n",
    "    f.create_dataset('label', (4, t), dtype='f')\n",
    "\n",
    "    f['data'][...] = np.random.randn(4,t,2,2)*255\n",
    "    f['label'][...] = np.random.randn(4,t)\n",
    "\n",
    "with open('lstm-train.h5list', 'w') as fx:\n",
    "    fx.write('lstm-train.h5\\n')"
   ]
  },
  {
   "cell_type": "code",
   "execution_count": null,
   "metadata": {
    "collapsed": true
   },
   "outputs": [],
   "source": []
  },
  {
   "cell_type": "code",
   "execution_count": 3,
   "metadata": {
    "collapsed": true
   },
   "outputs": [],
   "source": [
    "solver = caffe.SGDSolver('./traintest-solver.prototxt') #D:\\workspace\\python\\lstm-test"
   ]
  },
  {
   "cell_type": "code",
   "execution_count": 4,
   "metadata": {
    "collapsed": false
   },
   "outputs": [
    {
     "name": "stdout",
     "output_type": "stream",
     "text": [
      "(2L, 4L, 2L, 2L)\n",
      "(2L, 4L)\n",
      "(4L, 2L, 2L, 2L)\n",
      "(4L, 2L)\n",
      "(4L, 2L, 5L)\n",
      "(4L, 2L, 10L)\n"
     ]
    }
   ],
   "source": [
    "print solver.net.blobs['data'].data.shape\n",
    "print solver.net.blobs['label'].data.shape\n",
    "\n",
    "print solver.net.blobs['datax'].data.shape\n",
    "print solver.net.blobs['labelx'].data.shape\n",
    "\n",
    "print solver.net.blobs['lstm1'].data.shape\n",
    "print solver.net.blobs['lstm2'].data.shape"
   ]
  },
  {
   "cell_type": "code",
   "execution_count": null,
   "metadata": {
    "collapsed": false
   },
   "outputs": [],
   "source": []
  },
  {
   "cell_type": "code",
   "execution_count": 5,
   "metadata": {
    "collapsed": false
   },
   "outputs": [
    {
     "name": "stdout",
     "output_type": "stream",
     "text": [
      "[[[ -4.08743359e-02  -2.42477372e-01   2.05750167e-01  -1.38975903e-01\n",
      "    -2.07093172e-02   3.84254716e-02   1.12054512e-01   8.12706649e-02\n",
      "     1.00761950e-02   1.67458802e-02]\n",
      "  [ -7.93145150e-02  -1.66575566e-01   4.53026406e-02  -7.48691600e-05\n",
      "     2.62405016e-02   1.86496116e-02   3.86550017e-02  -1.50896430e-01\n",
      "     1.76674500e-01   1.97433919e-01]]\n",
      "\n",
      " [[  3.99615169e-02   1.49627194e-01  -3.06781501e-01   4.55301218e-02\n",
      "     6.28359318e-02  -1.45946190e-01  -1.24259241e-01  -5.65423295e-02\n",
      "     2.85355141e-03   3.84633914e-02]\n",
      "  [ -1.87269583e-01  -1.83739111e-01   1.00474261e-01   6.99265078e-02\n",
      "    -4.73038182e-02   5.05026542e-02   2.08342969e-02  -3.83625850e-02\n",
      "     8.43394846e-02   9.73056182e-02]]\n",
      "\n",
      " [[  5.06658107e-02   3.36209033e-03   1.55878425e-01  -1.04135863e-01\n",
      "     1.08867757e-01  -1.61165278e-02  -3.00282240e-02  -1.89790457e-01\n",
      "     4.77739088e-02  -1.13345005e-01]\n",
      "  [ -5.71896927e-03  -3.44745070e-03   5.93795208e-03   5.37107291e-04\n",
      "    -2.07102904e-03   1.32924644e-03  -3.40258027e-03  -2.60079931e-03\n",
      "    -3.09202092e-04   2.04866054e-03]]\n",
      "\n",
      " [[ -4.78136986e-02  -2.25908652e-01   2.32176363e-01  -2.32296661e-01\n",
      "     1.30899355e-01  -6.25486346e-03   8.56453925e-02  -1.77669480e-01\n",
      "     1.64986402e-01   1.64317518e-01]\n",
      "  [  1.20929234e-01   7.56601766e-02   1.45231299e-02   1.81753393e-02\n",
      "     1.60659462e-01  -7.44984075e-02  -1.50750980e-01   8.24786499e-02\n",
      "    -2.50714663e-02  -5.28736301e-02]]]\n"
     ]
    }
   ],
   "source": [
    "solver.net.forward()\n",
    "print solver.net.blobs['lstm2'].data"
   ]
  },
  {
   "cell_type": "code",
   "execution_count": null,
   "metadata": {
    "collapsed": true
   },
   "outputs": [],
   "source": []
  },
  {
   "cell_type": "code",
   "execution_count": null,
   "metadata": {
    "collapsed": true
   },
   "outputs": [],
   "source": []
  }
 ],
 "metadata": {
  "anaconda-cloud": {},
  "kernelspec": {
   "display_name": "Python [default]",
   "language": "python",
   "name": "python2"
  },
  "language_info": {
   "codemirror_mode": {
    "name": "ipython",
    "version": 2
   },
   "file_extension": ".py",
   "mimetype": "text/x-python",
   "name": "python",
   "nbconvert_exporter": "python",
   "pygments_lexer": "ipython2",
   "version": "2.7.12"
  }
 },
 "nbformat": 4,
 "nbformat_minor": 1
}
