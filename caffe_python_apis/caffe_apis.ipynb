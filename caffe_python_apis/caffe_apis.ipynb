{
 "cells": [
  {
   "cell_type": "code",
   "execution_count": 1,
   "metadata": {
    "collapsed": true
   },
   "outputs": [],
   "source": [
    "import sys\n",
    "sys.path.insert(0, '../../caffe-windows/Build/x64/Debug/pycaffe/')\n",
    "import caffe\n",
    "import numpy as np"
   ]
  },
  {
   "cell_type": "code",
   "execution_count": 6,
   "metadata": {
    "collapsed": true
   },
   "outputs": [],
   "source": [
    "solver = caffe.SGDSolver('./solver.prototxt')"
   ]
  },
  {
   "cell_type": "markdown",
   "metadata": {},
   "source": [
    "# caffe"
   ]
  },
  {
   "cell_type": "code",
   "execution_count": 27,
   "metadata": {
    "collapsed": false
   },
   "outputs": [
    {
     "data": {
      "text/plain": [
       "['AdaDeltaSolver',\n",
       " 'AdaGradSolver',\n",
       " 'AdamSolver',\n",
       " 'Classifier',\n",
       " 'Detector',\n",
       " 'Layer',\n",
       " 'NesterovSolver',\n",
       " 'Net',\n",
       " 'NetSpec',\n",
       " 'RMSPropSolver',\n",
       " 'SGDSolver',\n",
       " 'TEST',\n",
       " 'TRAIN',\n",
       " '__builtins__',\n",
       " '__doc__',\n",
       " '__file__',\n",
       " '__name__',\n",
       " '__package__',\n",
       " '__path__',\n",
       " '__version__',\n",
       " '_caffe',\n",
       " 'classifier',\n",
       " 'detector',\n",
       " 'get_solver',\n",
       " 'io',\n",
       " 'layer_type_list',\n",
       " 'layers',\n",
       " 'net_spec',\n",
       " 'params',\n",
       " 'proto',\n",
       " 'pycaffe',\n",
       " 'set_device',\n",
       " 'set_mode_cpu',\n",
       " 'set_mode_gpu',\n",
       " 'to_proto']"
      ]
     },
     "execution_count": 27,
     "metadata": {},
     "output_type": "execute_result"
    }
   ],
   "source": [
    "dir(caffe)"
   ]
  },
  {
   "cell_type": "code",
   "execution_count": 28,
   "metadata": {
    "collapsed": false
   },
   "outputs": [
    {
     "data": {
      "text/plain": [
       "['AdaDeltaSolver',\n",
       " 'AdaGradSolver',\n",
       " 'AdamSolver',\n",
       " 'Blob',\n",
       " 'BlobVec',\n",
       " 'BoolVec',\n",
       " 'DtypeVec',\n",
       " 'IntVec',\n",
       " 'Layer',\n",
       " 'LayerParameter',\n",
       " 'LayerVec',\n",
       " 'NesterovSolver',\n",
       " 'Net',\n",
       " 'NetVec',\n",
       " 'RMSPropSolver',\n",
       " 'RawBlobVec',\n",
       " 'SGDSolver',\n",
       " 'Solver',\n",
       " 'StringVec',\n",
       " '__doc__',\n",
       " '__file__',\n",
       " '__name__',\n",
       " '__package__',\n",
       " '__version__',\n",
       " 'get_solver',\n",
       " 'layer_type_list',\n",
       " 'set_device',\n",
       " 'set_mode_cpu',\n",
       " 'set_mode_gpu']"
      ]
     },
     "execution_count": 28,
     "metadata": {},
     "output_type": "execute_result"
    }
   ],
   "source": [
    "dir(caffe._caffe)"
   ]
  },
  {
   "cell_type": "code",
   "execution_count": 32,
   "metadata": {
    "collapsed": false
   },
   "outputs": [
    {
     "data": {
      "text/plain": [
       "module"
      ]
     },
     "execution_count": 32,
     "metadata": {},
     "output_type": "execute_result"
    }
   ],
   "source": [
    "type(caffe)"
   ]
  },
  {
   "cell_type": "code",
   "execution_count": 31,
   "metadata": {
    "collapsed": false
   },
   "outputs": [
    {
     "data": {
      "text/plain": [
       "Boost.Python.class"
      ]
     },
     "execution_count": 31,
     "metadata": {},
     "output_type": "execute_result"
    }
   ],
   "source": [
    "type(caffe._caffe.Blob)"
   ]
  },
  {
   "cell_type": "code",
   "execution_count": 41,
   "metadata": {
    "collapsed": false
   },
   "outputs": [
    {
     "name": "stdout",
     "output_type": "stream",
     "text": [
      "<type 'Boost.Python.class'>\n",
      "<type 'Boost.Python.class'>\n",
      "True\n"
     ]
    }
   ],
   "source": [
    "print type(caffe._caffe.SGDSolver)\n",
    "print type(caffe.SGDSolver)\n",
    "print caffe._caffe.SGDSolver is caffe.SGDSolver"
   ]
  },
  {
   "cell_type": "markdown",
   "metadata": {},
   "source": [
    "# sovler"
   ]
  },
  {
   "cell_type": "code",
   "execution_count": 7,
   "metadata": {
    "collapsed": false
   },
   "outputs": [
    {
     "data": {
      "text/plain": [
       "['__class__',\n",
       " '__delattr__',\n",
       " '__dict__',\n",
       " '__doc__',\n",
       " '__format__',\n",
       " '__getattribute__',\n",
       " '__hash__',\n",
       " '__init__',\n",
       " '__instance_size__',\n",
       " '__module__',\n",
       " '__new__',\n",
       " '__reduce__',\n",
       " '__reduce_ex__',\n",
       " '__repr__',\n",
       " '__setattr__',\n",
       " '__sizeof__',\n",
       " '__str__',\n",
       " '__subclasshook__',\n",
       " '__weakref__',\n",
       " 'iter',\n",
       " 'net',\n",
       " 'restore',\n",
       " 'snapshot',\n",
       " 'solve',\n",
       " 'step',\n",
       " 'test_nets']"
      ]
     },
     "execution_count": 7,
     "metadata": {},
     "output_type": "execute_result"
    }
   ],
   "source": [
    "dir(solver)"
   ]
  },
  {
   "cell_type": "code",
   "execution_count": 45,
   "metadata": {
    "collapsed": false
   },
   "outputs": [
    {
     "data": {
      "text/plain": [
       "int"
      ]
     },
     "execution_count": 45,
     "metadata": {},
     "output_type": "execute_result"
    }
   ],
   "source": [
    "type(solver.iter)"
   ]
  },
  {
   "cell_type": "code",
   "execution_count": 46,
   "metadata": {
    "collapsed": false
   },
   "outputs": [
    {
     "data": {
      "text/plain": [
       "instancemethod"
      ]
     },
     "execution_count": 46,
     "metadata": {},
     "output_type": "execute_result"
    }
   ],
   "source": [
    "type(solver.step)"
   ]
  },
  {
   "cell_type": "markdown",
   "metadata": {},
   "source": [
    "# net "
   ]
  },
  {
   "cell_type": "code",
   "execution_count": 8,
   "metadata": {
    "collapsed": false
   },
   "outputs": [
    {
     "data": {
      "text/plain": [
       "['__class__',\n",
       " '__delattr__',\n",
       " '__dict__',\n",
       " '__doc__',\n",
       " '__format__',\n",
       " '__getattribute__',\n",
       " '__hash__',\n",
       " '__init__',\n",
       " '__module__',\n",
       " '__new__',\n",
       " '__reduce__',\n",
       " '__reduce_ex__',\n",
       " '__repr__',\n",
       " '__setattr__',\n",
       " '__sizeof__',\n",
       " '__str__',\n",
       " '__subclasshook__',\n",
       " '__weakref__',\n",
       " '_backward',\n",
       " '_batch',\n",
       " '_blob_loss_weights',\n",
       " '_blob_names',\n",
       " '_blobs',\n",
       " '_bottom_ids',\n",
       " '_forward',\n",
       " '_inputs',\n",
       " '_layer_names',\n",
       " '_outputs',\n",
       " '_set_input_arrays',\n",
       " '_top_ids',\n",
       " 'backward',\n",
       " 'blob_loss_weights',\n",
       " 'blobs',\n",
       " 'bottom_names',\n",
       " 'copy_from',\n",
       " 'forward',\n",
       " 'forward_all',\n",
       " 'forward_backward_all',\n",
       " 'inputs',\n",
       " 'layers',\n",
       " 'outputs',\n",
       " 'params',\n",
       " 'reshape',\n",
       " 'save',\n",
       " 'set_input_arrays',\n",
       " 'share_with',\n",
       " 'top_names']"
      ]
     },
     "execution_count": 8,
     "metadata": {},
     "output_type": "execute_result"
    }
   ],
   "source": [
    "dir(solver.net)"
   ]
  },
  {
   "cell_type": "code",
   "execution_count": 9,
   "metadata": {
    "collapsed": false
   },
   "outputs": [
    {
     "data": {
      "text/plain": [
       "OrderedDict([('conv1', <caffe._caffe.BlobVec at 0x196fb660>),\n",
       "             ('conv2', <caffe._caffe.BlobVec at 0x196fb590>)])"
      ]
     },
     "execution_count": 9,
     "metadata": {},
     "output_type": "execute_result"
    }
   ],
   "source": [
    "getattr(solver.net, 'params')"
   ]
  },
  {
   "cell_type": "code",
   "execution_count": 10,
   "metadata": {
    "collapsed": false
   },
   "outputs": [
    {
     "name": "stdout",
     "output_type": "stream",
     "text": [
      "conv1 <caffe._caffe.BlobVec object at 0x00000000196FB730>\n",
      "conv2 <caffe._caffe.BlobVec object at 0x00000000196FBA08>\n"
     ]
    }
   ],
   "source": [
    "for i, bs in solver.net.params.iteritems():\n",
    "    print i, bs"
   ]
  },
  {
   "cell_type": "code",
   "execution_count": 12,
   "metadata": {
    "collapsed": false
   },
   "outputs": [
    {
     "name": "stdout",
     "output_type": "stream",
     "text": [
      "data\n",
      "conv1\n",
      "pool1\n",
      "conv2\n"
     ]
    }
   ],
   "source": [
    "for name in solver.net._layer_names:\n",
    "    print name"
   ]
  },
  {
   "cell_type": "code",
   "execution_count": 26,
   "metadata": {
    "collapsed": false
   },
   "outputs": [
    {
     "data": {
      "text/plain": [
       "OrderedDict([('data', <caffe._caffe.Blob at 0x19741b38>),\n",
       "             ('conv1', <caffe._caffe.Blob at 0x19741d68>),\n",
       "             ('pool1', <caffe._caffe.Blob at 0x19741e48>),\n",
       "             ('conv2', <caffe._caffe.Blob at 0x19741eb8>)])"
      ]
     },
     "execution_count": 26,
     "metadata": {},
     "output_type": "execute_result"
    }
   ],
   "source": [
    "solver.net.blobs"
   ]
  },
  {
   "cell_type": "markdown",
   "metadata": {},
   "source": [
    "# blob"
   ]
  },
  {
   "cell_type": "markdown",
   "metadata": {},
   "source": [
    "## list class Blob's attribute"
   ]
  },
  {
   "cell_type": "code",
   "execution_count": 14,
   "metadata": {
    "collapsed": false
   },
   "outputs": [
    {
     "data": {
      "text/plain": [
       "caffe._caffe.Blob"
      ]
     },
     "execution_count": 14,
     "metadata": {},
     "output_type": "execute_result"
    }
   ],
   "source": [
    "type(solver.net.params['conv1'][0])"
   ]
  },
  {
   "cell_type": "code",
   "execution_count": 15,
   "metadata": {
    "collapsed": false
   },
   "outputs": [
    {
     "data": {
      "text/plain": [
       "True"
      ]
     },
     "execution_count": 15,
     "metadata": {},
     "output_type": "execute_result"
    }
   ],
   "source": [
    "isinstance(solver.net.params['conv1'][0], caffe._caffe.Blob)"
   ]
  },
  {
   "cell_type": "code",
   "execution_count": 16,
   "metadata": {
    "collapsed": false
   },
   "outputs": [
    {
     "data": {
      "text/plain": [
       "['__class__',\n",
       " '__delattr__',\n",
       " '__dict__',\n",
       " '__doc__',\n",
       " '__format__',\n",
       " '__getattribute__',\n",
       " '__hash__',\n",
       " '__init__',\n",
       " '__module__',\n",
       " '__new__',\n",
       " '__reduce__',\n",
       " '__reduce_ex__',\n",
       " '__repr__',\n",
       " '__setattr__',\n",
       " '__sizeof__',\n",
       " '__str__',\n",
       " '__subclasshook__',\n",
       " '__weakref__',\n",
       " 'channels',\n",
       " 'count',\n",
       " 'data',\n",
       " 'diff',\n",
       " 'height',\n",
       " 'num',\n",
       " 'reshape',\n",
       " 'shape',\n",
       " 'width']"
      ]
     },
     "execution_count": 16,
     "metadata": {},
     "output_type": "execute_result"
    }
   ],
   "source": [
    "dir(caffe._caffe.Blob)"
   ]
  },
  {
   "cell_type": "code",
   "execution_count": 25,
   "metadata": {
    "collapsed": false
   },
   "outputs": [
    {
     "name": "stdout",
     "output_type": "stream",
     "text": [
      "96 3 7 7\n"
     ]
    }
   ],
   "source": [
    "for i in solver.net.params['conv1'][0].shape:\n",
    "    print i, "
   ]
  },
  {
   "cell_type": "code",
   "execution_count": null,
   "metadata": {
    "collapsed": true
   },
   "outputs": [],
   "source": []
  }
 ],
 "metadata": {
  "anaconda-cloud": {},
  "kernelspec": {
   "display_name": "Python [default]",
   "language": "python",
   "name": "python2"
  },
  "language_info": {
   "codemirror_mode": {
    "name": "ipython",
    "version": 2
   },
   "file_extension": ".py",
   "mimetype": "text/x-python",
   "name": "python",
   "nbconvert_exporter": "python",
   "pygments_lexer": "ipython2",
   "version": "2.7.12"
  }
 },
 "nbformat": 4,
 "nbformat_minor": 1
}
